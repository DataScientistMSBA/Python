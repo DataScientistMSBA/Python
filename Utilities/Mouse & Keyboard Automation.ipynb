{
 "cells": [
  {
   "attachments": {},
   "cell_type": "markdown",
   "metadata": {},
   "source": [
    "# [Mouse and Keyboard Automation in Python](https://www.youtube.com/watch?v=2VkJhtDAKIc&t=43s)"
   ]
  },
  {
   "cell_type": "code",
   "execution_count": 5,
   "metadata": {},
   "outputs": [],
   "source": [
    "import pyautogui\n",
    "import time\n",
    "# print(pyautogui.size())"
   ]
  },
  {
   "cell_type": "code",
   "execution_count": 2,
   "metadata": {},
   "outputs": [],
   "source": [
    "# moveTo() function - moveing the mouse from point a to point b on the x and y axis\n",
    "pyautogui.moveTo(100,100,duration=1)"
   ]
  },
  {
   "cell_type": "code",
   "execution_count": 3,
   "metadata": {},
   "outputs": [],
   "source": [
    "# moveRel function - moves the mouse relative to its previous position\n",
    "pyautogui.moveRel(0,50,duration=2)\n",
    "# print(pyautogui.position())"
   ]
  },
  {
   "cell_type": "code",
   "execution_count": 4,
   "metadata": {},
   "outputs": [],
   "source": [
    "pyautogui.click(70, 20, duration=1)"
   ]
  },
  {
   "cell_type": "code",
   "execution_count": 41,
   "metadata": {},
   "outputs": [],
   "source": [
    "# dragTo / dragRel\n",
    "pyautogui.dragTo(100, 100, duration=1)\n",
    "pyautogui.dragRel(0, 50, duration=1)"
   ]
  },
  {
   "cell_type": "code",
   "execution_count": 15,
   "metadata": {},
   "outputs": [],
   "source": [
    "pyautogui.click(3248, 210, duration=1)\n",
    "time.sleep(2)\n",
    "pyautogui.moveTo(500,500, duration=1)\n",
    "pyautogui.dragRel(100, 0, duration=1)\n",
    "pyautogui.dragRel(0, 100, duration=1)\n",
    "pyautogui.dragRel(-100, 0, duration=1)\n",
    "pyautogui.dragRel(0, -100, duration=1)"
   ]
  },
  {
   "cell_type": "code",
   "execution_count": 20,
   "metadata": {},
   "outputs": [],
   "source": [
    "pyautogui.moveTo(2484,1224,duration=1)\n",
    "pyautogui.scroll(-2000)                     # scroll down\n",
    "pyautogui.scroll(2000)                     # scroll up"
   ]
  },
  {
   "cell_type": "code",
   "execution_count": 22,
   "metadata": {},
   "outputs": [],
   "source": [
    "# print(pyautogui.position())\n",
    "\n",
    "pyautogui.click(2345,138,duration=1)\n",
    "\n",
    "# Keyboard functions\n",
    "pyautogui.typewrite('Hello World', interval=0.2)"
   ]
  },
  {
   "cell_type": "code",
   "execution_count": 25,
   "metadata": {},
   "outputs": [],
   "source": [
    "# print(pyautogui.position())\n",
    "\n",
    "pyautogui.click(2358,140,duration=0)\n",
    "\n",
    "pyautogui.hotkey('ctrl', 'a')"
   ]
  }
 ],
 "metadata": {
  "kernelspec": {
   "display_name": "Python 3",
   "language": "python",
   "name": "python3"
  },
  "language_info": {
   "codemirror_mode": {
    "name": "ipython",
    "version": 3
   },
   "file_extension": ".py",
   "mimetype": "text/x-python",
   "name": "python",
   "nbconvert_exporter": "python",
   "pygments_lexer": "ipython3",
   "version": "3.11.4"
  },
  "orig_nbformat": 4
 },
 "nbformat": 4,
 "nbformat_minor": 2
}
