{
 "cells": [
  {
   "cell_type": "code",
   "execution_count": 19,
   "metadata": {},
   "outputs": [],
   "source": [
    "%run \"C:/Users/ahicks233/Documents/My Briefcase/GitHub/Personal/Python/Tools/Security/Passwords/Get Secret.ipynb\"\n"
   ]
  },
  {
   "cell_type": "code",
   "execution_count": 36,
   "metadata": {},
   "outputs": [
    {
     "name": "stdout",
     "output_type": "stream",
     "text": [
      "Retrieved secret password: Saved under secret_password variable.\n",
      "Retrieved secret password: Saved under secret_password variable.\n",
      "Retrieved secret password: Saved under secret_password variable.\n"
     ]
    },
    {
     "data": {
      "text/plain": [
       "<Response [500]>"
      ]
     },
     "execution_count": 36,
     "metadata": {},
     "output_type": "execute_result"
    }
   ],
   "source": [
    "import requests, json\n",
    "\n",
    "consumer_password = get_secret(\"BBB PASS\")  # Replace with your actual password\n",
    "\n",
    "auth_url = \"https://api.bbb.org/token\"\n",
    "headers = {\"Content-Type\": \"application/x-www-form-urlencoded\"}\n",
    "data = {\n",
    "    \"grant_type\": \"password\",\n",
    "    \"username\": get_secret(\"USER DSMSBA\"),\n",
    "    \"password\": get_secret(\"BBB PASS\")\n",
    "}\n",
    "response = requests.post(auth_url, headers=headers, data=data)\n",
    "response"
   ]
  }
 ],
 "metadata": {
  "kernelspec": {
   "display_name": "base",
   "language": "python",
   "name": "python3"
  },
  "language_info": {
   "codemirror_mode": {
    "name": "ipython",
    "version": 3
   },
   "file_extension": ".py",
   "mimetype": "text/x-python",
   "name": "python",
   "nbconvert_exporter": "python",
   "pygments_lexer": "ipython3",
   "version": "3.10.9"
  }
 },
 "nbformat": 4,
 "nbformat_minor": 2
}
