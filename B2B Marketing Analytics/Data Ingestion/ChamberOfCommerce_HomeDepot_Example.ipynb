{
 "cells": [
  {
   "cell_type": "code",
   "execution_count": 13,
   "metadata": {},
   "outputs": [
    {
     "name": "stdout",
     "output_type": "stream",
     "text": [
      "Requirement already satisfied: certifi in c:\\users\\ahicks233\\appdata\\local\\anaconda3\\lib\\site-packages (2023.11.17)\n"
     ]
    }
   ],
   "source": [
    "# !pip install uncurl\n",
    "# !pip install certifi"
   ]
  },
  {
   "cell_type": "code",
   "execution_count": 21,
   "metadata": {},
   "outputs": [],
   "source": [
    "import pandas as pd\n",
    "import bs4 as BeautifulSoup\n",
    "import requests, json, re"
   ]
  },
  {
   "cell_type": "markdown",
   "metadata": {},
   "source": [
    "# Curl Bash"
   ]
  },
  {
   "cell_type": "code",
   "execution_count": 2,
   "metadata": {},
   "outputs": [],
   "source": [
    "curlbash = \"\"\"\n",
    "curl 'https://www.chamberofcommerce.com/search/mapsearch?page=1' \\\n",
    "  -H 'Accept: application/json, text/javascript, */*; q=0.01' \\\n",
    "  -H 'Accept-Language: en-US,en;q=0.9' \\\n",
    "  -H 'Connection: keep-alive' \\\n",
    "  -H 'Content-Type: application/x-www-form-urlencoded; charset=UTF-8' \\\n",
    "  -H 'Cookie: ; __adblocker=true' \\\n",
    "  -H 'DNT: 1' \\\n",
    "  -H 'Origin: https://www.chamberofcommerce.com' \\\n",
    "  -H 'Referer: https://www.chamberofcommerce.com/search?what=Home+Depot+Distribution+Center&where=' \\\n",
    "  -H 'Sec-Fetch-Dest: empty' \\\n",
    "  -H 'Sec-Fetch-Mode: cors' \\\n",
    "  -H 'Sec-Fetch-Site: same-origin' \\\n",
    "  -H 'User-Agent: Mozilla/5.0 (Windows NT 10.0; Win64; x64) AppleWebKit/537.36 (KHTML, like Gecko) Chrome/119.0.0.0 Safari/537.36' \\\n",
    "  -H 'X-Requested-With: XMLHttpRequest' \\\n",
    "  -H 'sec-ch-ua: \"Google Chrome\";v=\"119\", \"Chromium\";v=\"119\", \"Not?A_Brand\";v=\"24\"' \\\n",
    "  -H 'sec-ch-ua-mobile: ?0' \\\n",
    "  -H 'sec-ch-ua-platform: \"Windows\"' \\\n",
    "  --data-raw 'Query=Home+Depot+Distribution+Center&Bounds%5B_sw%5D%5Blng%5D=-152.18130499310706&Bounds%5B_sw%5D%5Blat%5D=4.37613941911836&Bounds%5B_ne%5D%5Blng%5D=-44.9776950068931&Bounds%5B_ne%5D%5Blat%5D=70.60745650348395&Where=' \\\n",
    "  --compressed\n",
    "  \"\"\""
   ]
  },
  {
   "cell_type": "markdown",
   "metadata": {},
   "source": [
    "# Curl Bash to JSON Function"
   ]
  },
  {
   "cell_type": "code",
   "execution_count": 14,
   "metadata": {},
   "outputs": [],
   "source": [
    "    def ExtractAPI(curlbash, page):\n",
    "        import uncurl, re\n",
    "        results = uncurl.parse_context(curlbash)\n",
    "        response = requests.post(results.url, params = {'page': f'{page}'}, cookies=results.cookies, headers=results.headers, data = results.data, verify = False)\n",
    "        json_data = json.loads(response.content)\n",
    "        return json_data"
   ]
  },
  {
   "cell_type": "markdown",
   "metadata": {},
   "source": [
    "# JSON Extraction Function"
   ]
  },
  {
   "cell_type": "code",
   "execution_count": 15,
   "metadata": {},
   "outputs": [],
   "source": [
    "def ExtractChamberOfCommerceDetails(curlbash, page):\n",
    "    WEB_CC_STORE = []\n",
    "    WEB_CC_LAT = []\n",
    "    WEB_CC_LONG = []\n",
    "    WEB_CC_ADDRESS1 = []\n",
    "    WEB_CC_CITY = []\n",
    "    WEB_CC_STATE = []\n",
    "    WEB_CC_ZIP = []\n",
    "    WEB_CC_PHONE = []\n",
    "\n",
    "    for result in ExtractAPI(curlbash, page)['map']:\n",
    "        WEB_CC_STORE.append(str(result[0]))\n",
    "        WEB_CC_LAT.append(str(result[1]))\n",
    "        WEB_CC_LONG.append(str(result[2]))\n",
    "\n",
    "        # Parse address and phone number information using BeautifulSoup and regular expressions\n",
    "        soup = BeautifulSoup(result[3], 'html.parser')\n",
    "        address_parts = soup.find('address').get_text('\\n').strip().split('\\n')\n",
    "        \n",
    "        if len(address_parts) >= 4:\n",
    "            address1 = address_parts[0].strip()\n",
    "            city_state_zip = address_parts[2].strip().split(',')\n",
    "            \n",
    "            WEB_CC_ADDRESS1.append(address1)\n",
    "            WEB_CC_CITY.append(city_state_zip[0].strip())\n",
    "            \n",
    "            state_zip_parts = city_state_zip[1].strip().split()\n",
    "            if len(state_zip_parts) >= 2:\n",
    "                WEB_CC_STATE.append(state_zip_parts[0])\n",
    "                WEB_CC_ZIP.append(state_zip_parts[1])\n",
    "            else:\n",
    "                WEB_CC_STATE.append('')\n",
    "                WEB_CC_ZIP.append('')\n",
    "            \n",
    "            # Extract phone number using regular expression\n",
    "            phone_match = re.search(r'\\b(\\d{3}-\\d{3}-\\d{4})\\b', result[3])\n",
    "            if phone_match:\n",
    "                WEB_CC_PHONE.append(phone_match.group(1))\n",
    "            else:\n",
    "                WEB_CC_PHONE.append('')\n",
    "        else:\n",
    "            WEB_CC_ADDRESS1.append('')\n",
    "            WEB_CC_CITY.append('')\n",
    "            WEB_CC_STATE.append('')\n",
    "            WEB_CC_ZIP.append('')\n",
    "            WEB_CC_PHONE.append('')\n",
    "\n",
    "    data = {\n",
    "        'WEB_CC_STORE': WEB_CC_STORE,\n",
    "        'WEB_CC_LAT': WEB_CC_LAT,\n",
    "        'WEB_CC_LONG': WEB_CC_LONG,\n",
    "        'WEB_CC_ADDRESS1': WEB_CC_ADDRESS1,\n",
    "        'WEB_CC_CITY': WEB_CC_CITY,\n",
    "        'WEB_CC_STATE': WEB_CC_STATE,\n",
    "        'WEB_CC_ZIP': WEB_CC_ZIP,\n",
    "        'WEB_CC_PHONE': WEB_CC_PHONE\n",
    "    }\n",
    "\n",
    "    df_CC_WEB = pd.DataFrame(data)\n",
    "    return df_CC_WEB"
   ]
  },
  {
   "cell_type": "markdown",
   "metadata": {},
   "source": [
    "# Get Final Results"
   ]
  },
  {
   "cell_type": "code",
   "execution_count": 1,
   "metadata": {},
   "outputs": [],
   "source": [
    "df_CC_WEB = pd.DataFrame(columns=['WEB_CC_STORE', 'WEB_CC_LAT', 'WEB_CC_LONG', 'WEB_CC_ADDRESS1', 'WEB_CC_CITY', 'WEB_CC_STATE', 'WEB_CC_ZIP', 'WEB_CC_PHONE'])\n",
    "\n",
    "def append_data_to_df(curlbash, page, df):\n",
    "    result = ExtractChamberOfCommerceDetails(curlbash, page=page)\n",
    "    if not result.empty and 'WEB_CC_STORE' in result.columns:\n",
    "        df = df.append(result, ignore_index=True)\n",
    "        page += 1\n",
    "    else:\n",
    "        page = None\n",
    "    return df, page\n",
    "page = 1\n",
    "while page is not None:\n",
    "    df_CC_WEB, page = append_data_to_df(curlbash, page, df_CC_WEB)\n",
    "\n",
    "print(len(df_CC_WEB))\n",
    "df_CC_WEB"
   ]
  },
  {
   "cell_type": "code",
   "execution_count": 2,
   "metadata": {},
   "outputs": [],
   "source": [
    "# append_data_to_df(curlbash = curlbash, page = 1, df = df_CC_WEB)\n",
    "ExtractChamberOfCommerceDetails(curlbash, page=1)"
   ]
  }
 ],
 "metadata": {
  "kernelspec": {
   "display_name": "base",
   "language": "python",
   "name": "python3"
  },
  "language_info": {
   "codemirror_mode": {
    "name": "ipython",
    "version": 3
   },
   "file_extension": ".py",
   "mimetype": "text/x-python",
   "name": "python",
   "nbconvert_exporter": "python",
   "pygments_lexer": "ipython3",
   "version": "3.10.9"
  }
 },
 "nbformat": 4,
 "nbformat_minor": 2
}
