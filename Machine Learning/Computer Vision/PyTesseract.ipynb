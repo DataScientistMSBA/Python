{
 "cells": [
  {
   "attachments": {},
   "cell_type": "markdown",
   "metadata": {},
   "source": [
    "# [Introduction to PyTesseract](https://www.youtube.com/watch?v=4uWp6dS6_G4)"
   ]
  },
  {
   "cell_type": "code",
   "execution_count": 4,
   "metadata": {},
   "outputs": [],
   "source": [
    "import pyautogui\n",
    "import pytesseract\n",
    "from PIL import Image"
   ]
  },
  {
   "cell_type": "code",
   "execution_count": 5,
   "metadata": {},
   "outputs": [],
   "source": [
    "# Capture a screenshot of the entire screen\n",
    "screenshot = pyautogui.screenshot()\n",
    "\n",
    "# Save the screenshot to a file\n",
    "screenshot.save('screenshot.jpg')\n"
   ]
  },
  {
   "cell_type": "code",
   "execution_count": 8,
   "metadata": {},
   "outputs": [],
   "source": [
    "img_file = 'screenshot.jpg'\n",
    "no_noise = 'temp/no_noise.jpg'"
   ]
  },
  {
   "cell_type": "code",
   "execution_count": 13,
   "metadata": {},
   "outputs": [],
   "source": [
    "img =  Image.open(img_file)"
   ]
  },
  {
   "cell_type": "code",
   "execution_count": 14,
   "metadata": {},
   "outputs": [],
   "source": [
    "ocr_result = pytesseract.image_to_string(img)"
   ]
  },
  {
   "cell_type": "code",
   "execution_count": 16,
   "metadata": {},
   "outputs": [
    {
     "data": {
      "text/plain": [
       "\"GABRIEL MegmaLll\\n\\nOn Faster wotning in tho year 19%4, I took my six-year-old\\nson by the hand and degen walking fron my hone town toward the\\nvalleys and forests of the Carpathien ~ountains. For nearly\\neight sonths we lived in barns, attice and makeshift cabins, With\\nthe generous help of an unusually courageous man, we managed to\\nsurvive Europe's greatest fit of madnoso. Those who walked in\\nthe opposite direction on that Easter Gay were lese fortunate.\\nThey wore taken in trainloads to places whose once obscure nazes\\nare now, and forever will be, aynonysous with terror, evil and\\ndeath. What follows ie our story of survival told to the best\\nof my ability, in plain, simple language.\\n\\nIn March of 196% the SS troops took over the internal affairs\\nof Mungary and proceeded to organize the deportation of the Jows.\\nTo the Mazio thie was a routine aseignmont; within hours all local\\nofficials were informed of operational plane. The high command\\niosued a directive designed to placate Jeeieh fears and induce\\ncooperation. It was announced that the Jewa would be shipped to\\nPoland an an emergency labor force and that they were only being\\ndrafted for temporary work. There were many who believed this\\nversion. Others, less credulows, resigred themselves and hoped for\\nthe best. Still others began to sake plans for escape. By Aprii\\n13 the Mungarian Jews wore being rounded up from all over the\\n\""
      ]
     },
     "execution_count": 16,
     "metadata": {},
     "output_type": "execute_result"
    }
   ],
   "source": [
    "ocr_result"
   ]
  },
  {
   "cell_type": "code",
   "execution_count": 19,
   "metadata": {},
   "outputs": [
    {
     "name": "stdout",
     "output_type": "stream",
     "text": [
      "GABRIEL MegmaLll\n",
      "\n",
      "On Faster wotning in tho year 19%4, I took my six-year-old\n",
      "son by the hand and degen walking fron my hone town toward the\n",
      "valleys and forests of the Carpathien ~ountains. For nearly\n",
      "eight sonths we lived in barns, attice and makeshift cabins, With\n",
      "the generous help of an unusually courageous man, we managed to\n",
      "survive Europe's greatest fit of madnoso. Those who walked in\n",
      "the opposite direction on that Easter Gay were lese fortunate.\n",
      "They wore taken in trainloads to places whose once obscure nazes\n",
      "are now, and forever will be, aynonysous with terror, evil and\n",
      "death. What follows ie our story of survival told to the best\n",
      "of my ability, in plain, simple language.\n",
      "\n",
      "In March of 196% the SS troops took over the internal affairs\n",
      "of Mungary and proceeded to organize the deportation of the Jows.\n",
      "To the Mazio thie was a routine aseignmont; within hours all local\n",
      "officials were informed of operational plane. The high command\n",
      "iosued a directive designed to placate Jeeieh fears and induce\n",
      "cooperation. It was announced that the Jewa would be shipped to\n",
      "Poland an an emergency labor force and that they were only being\n",
      "drafted for temporary work. There were many who believed this\n",
      "version. Others, less credulows, resigred themselves and hoped for\n",
      "the best. Still others began to sake plans for escape. By Aprii\n",
      "13 the Mungarian Jews wore being rounded up from all over the\n"
     ]
    }
   ],
   "source": [
    "img = pytesseract.image_to_string(img)\n",
    "\n",
    "ocr_result = img.rstrip()\n",
    "\n",
    "print(ocr_result)"
   ]
  }
 ],
 "metadata": {
  "kernelspec": {
   "display_name": "Python 3",
   "language": "python",
   "name": "python3"
  },
  "language_info": {
   "codemirror_mode": {
    "name": "ipython",
    "version": 3
   },
   "file_extension": ".py",
   "mimetype": "text/x-python",
   "name": "python",
   "nbconvert_exporter": "python",
   "pygments_lexer": "ipython3",
   "version": "3.11.4"
  },
  "orig_nbformat": 4
 },
 "nbformat": 4,
 "nbformat_minor": 2
}
