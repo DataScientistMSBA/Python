{
 "cells": [
  {
   "cell_type": "code",
   "execution_count": 4,
   "metadata": {},
   "outputs": [],
   "source": [
    "def get_secret(secret_name = None):\n",
    "    global secret_password\n",
    "    import keyring\n",
    "    if secret_name is None:\n",
    "        secret_name = input(\"Enter the secret name to retrieve: \")\n",
    "    try:\n",
    "        secret_password = keyring.get_password(secret_name, secret_name)\n",
    "        if secret_password is not None:\n",
    "            print(f\"Retrieved secret password: Saved under secret_password variable.\")\n",
    "        else:\n",
    "            print(\"No secret password found for the given secret name and user.\")\n",
    "    except Exception as e:\n",
    "        print(f\"Error: {e}\")\n",
    "\n",
    "# get_secret()"
   ]
  }
 ],
 "metadata": {
  "kernelspec": {
   "display_name": "base",
   "language": "python",
   "name": "python3"
  },
  "language_info": {
   "codemirror_mode": {
    "name": "ipython",
    "version": 3
   },
   "file_extension": ".py",
   "mimetype": "text/x-python",
   "name": "python",
   "nbconvert_exporter": "python",
   "pygments_lexer": "ipython3",
   "version": "3.10.9"
  }
 },
 "nbformat": 4,
 "nbformat_minor": 2
}
